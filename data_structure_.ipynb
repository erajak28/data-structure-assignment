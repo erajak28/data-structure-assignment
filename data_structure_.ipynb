{
  "nbformat": 4,
  "nbformat_minor": 0,
  "metadata": {
    "colab": {
      "provenance": []
    },
    "kernelspec": {
      "name": "python3",
      "display_name": "Python 3"
    },
    "language_info": {
      "name": "python"
    }
  },
  "cells": [
    {
      "cell_type": "markdown",
      "source": [
        "##theory *question*"
      ],
      "metadata": {
        "id": "3H2tevTIxjb9"
      }
    },
    {
      "cell_type": "markdown",
      "source": [
        "question 1. What are data structures, and why are they important?\n",
        "\n",
        "   ans : Data structures in Python are specialized formats or containers used to store and organize data efficiently.They provide various ways to store, access, and manipulate data according to specific needs.\n",
        "\n",
        "   Importance:\n",
        "\n",
        "\n",
        "\n",
        "*   Makes data handling fast and easy.\n",
        "*   Improves performance (speed & memory).\n",
        "*   Helps solve complex problems (trees, graphs, etc.).\n",
        "*   Forms the base of algorithms and programming.\n",
        "\n",
        "Examples: Array, Stack, dictionaries, tuple, List.\n",
        "\n",
        "\n",
        "\n",
        "\n",
        "\n",
        "\n",
        "\n"
      ],
      "metadata": {
        "id": "RDZm9W-1f20n"
      }
    },
    {
      "cell_type": "markdown",
      "source": [
        "question 2. Explain the difference between mutable and immutable data types with examples.\n",
        "\n",
        "  ans: **Mutable Data Types**\n",
        "\n",
        "*   Can be changed/modified after creation.\n",
        "*   Elements inside them can be updated, added, or removed.\n",
        "\n",
        "Examples: list, set, dict.\n"
      ],
      "metadata": {
        "id": "Gph6XV2qf3Cv"
      }
    },
    {
      "cell_type": "code",
      "source": [
        "list = [1,2,3,4,5]\n",
        "list[0] = 10\n",
        "print(list)"
      ],
      "metadata": {
        "colab": {
          "base_uri": "https://localhost:8080/"
        },
        "id": "N8BCCKX6qtel",
        "outputId": "ed75e0f0-a6e6-421a-d419-3c6386615d0d"
      },
      "execution_count": null,
      "outputs": [
        {
          "output_type": "stream",
          "name": "stdout",
          "text": [
            "[10, 2, 3, 4, 5]\n"
          ]
        }
      ]
    },
    {
      "cell_type": "markdown",
      "source": [
        "**Immutable Data Types**\n",
        "\n",
        "\n",
        "*   Cannot be changed once created.\n",
        "*   Any modification creates a new object.\n",
        "\n",
        "Examples: int, float, string, tuple.\n"
      ],
      "metadata": {
        "id": "5hUFbOCRf3PM"
      }
    },
    {
      "cell_type": "code",
      "source": [
        "a_string = \"hello\"\n",
        "a_string[0] = \"H\"\n",
        "\n",
        "#this will throw an arror , because string is immutable."
      ],
      "metadata": {
        "colab": {
          "base_uri": "https://localhost:8080/",
          "height": 158
        },
        "id": "F4M1vUGFqqjy",
        "outputId": "fd836fc6-c1a0-485c-a288-3928e96679c1"
      },
      "execution_count": null,
      "outputs": [
        {
          "output_type": "error",
          "ename": "TypeError",
          "evalue": "'str' object does not support item assignment",
          "traceback": [
            "\u001b[0;31m---------------------------------------------------------------------------\u001b[0m",
            "\u001b[0;31mTypeError\u001b[0m                                 Traceback (most recent call last)",
            "\u001b[0;32m/tmp/ipython-input-135809623.py\u001b[0m in \u001b[0;36m<cell line: 0>\u001b[0;34m()\u001b[0m\n\u001b[1;32m      1\u001b[0m \u001b[0ma_string\u001b[0m \u001b[0;34m=\u001b[0m \u001b[0;34m\"hello\"\u001b[0m\u001b[0;34m\u001b[0m\u001b[0;34m\u001b[0m\u001b[0m\n\u001b[0;32m----> 2\u001b[0;31m \u001b[0ma_string\u001b[0m\u001b[0;34m[\u001b[0m\u001b[0;36m0\u001b[0m\u001b[0;34m]\u001b[0m \u001b[0;34m=\u001b[0m \u001b[0;34m\"H\"\u001b[0m\u001b[0;34m\u001b[0m\u001b[0;34m\u001b[0m\u001b[0m\n\u001b[0m",
            "\u001b[0;31mTypeError\u001b[0m: 'str' object does not support item assignment"
          ]
        }
      ]
    },
    {
      "cell_type": "markdown",
      "source": [
        "#question 3. What are the main differences between lists and tuples in Python?\n",
        "\n",
        "  ans: \"Lists\" in Python are mutable, meaning their elements can be changed after creation. They are written using square brackets [ ] and support many operations like adding, removing, or modifying elements.\n",
        "\n",
        "\"Tuples\" in Python are immutable, meaning their elements cannot be changed once created. They are written using parentheses ( ) and have fewer operations compared to lists.\n",
        "\n",
        "Lists are slower but more flexible, while tuples are faster and used when data should remain constant.\n"
      ],
      "metadata": {
        "id": "5VNqCp2Tf3cW"
      }
    },
    {
      "cell_type": "markdown",
      "source": [
        "#question 4. Describe how dictionaries store data.\n",
        "\n",
        "  ans: A dictionary in Python stores data in the form of key–value pairs. Each value is accessed using its unique key, not by position (like lists or tuples).\n",
        "\n",
        "Keys: Must be unique and immutable (e.g., string, number, tuple).\n",
        "\n",
        "Values: Can be of any data type and can be duplicated.\n",
        "\n"
      ],
      "metadata": {
        "id": "bWsIka2OtDjd"
      }
    },
    {
      "cell_type": "code",
      "source": [
        "#example:\n",
        "\n",
        "student = {\"name\": \"Ekta\", \"age\": 25, \"course\": \"PW skills\"}\n",
        "\n",
        "#if you search for \"name\" it will immediately jumps to the value \"Ekta\"\n",
        "print(student[\"name\"])\n"
      ],
      "metadata": {
        "colab": {
          "base_uri": "https://localhost:8080/"
        },
        "id": "H3xym3c2t699",
        "outputId": "f74c4f95-b05e-47f0-e7ce-6d97689d4210"
      },
      "execution_count": null,
      "outputs": [
        {
          "output_type": "stream",
          "name": "stdout",
          "text": [
            "Ekta\n"
          ]
        }
      ]
    },
    {
      "cell_type": "markdown",
      "source": [
        "#question 5. Why might you use a set instead of a list in Python?\n",
        "\n",
        "  ans:\n",
        "  1.  A set is an unordered collection that does not allow duplicate values, while a list allows duplicates.\n",
        "\n",
        "  2. Sets are faster for operations like checking membership (in) because they use hashing internally.\n",
        "\n",
        "  3. Use a set when you need to store unique items and perform fast lookups, unions, intersections, or differences.\n",
        "\n",
        "  4. Use a list when you care about order or need duplicates.\n"
      ],
      "metadata": {
        "id": "uOtB0-d1tDt0"
      }
    },
    {
      "cell_type": "markdown",
      "source": [
        "#question 6.  What is a string in Python, and how is it different from a list?\n",
        "\n",
        "  ans : A string is a sequence of characters enclosed in quotes (' ' or \" \"). It is used to store text data.\n",
        "Example: \"Hello\", 'Ekta'.\n",
        "\n",
        "**Difference between String and List**\n",
        "\n",
        "String\n",
        "\n",
        "1. Sequence of characters.\n",
        "\n",
        "2. Immutable → cannot be changed after creation.\n",
        "\n",
        "3. Written inside quotes (\" \" or ' ').\n",
        "\n",
        "Example: \"hello\".\n",
        "\n",
        "List\n",
        "\n",
        "1. Sequence of elements (numbers, strings, objects, etc.).\n",
        "\n",
        "2. Mutable → elements can be added, removed, or modified.\n",
        "\n",
        "3. Written inside square brackets [ ].\n",
        "\n",
        "Example: [1, 2, \"Ram\"]."
      ],
      "metadata": {
        "id": "4ew9dYaztD3f"
      }
    },
    {
      "cell_type": "markdown",
      "source": [
        "#question 7. How do tuples ensure data integrity in Python?\n",
        "\n",
        "  ans. Tuples in Python are immutable, meaning their data cannot be changed once created. This ensures data integrity by preventing accidental modifications, making them reliable for storing constant values."
      ],
      "metadata": {
        "id": "ZuKfAU8ptECd"
      }
    },
    {
      "cell_type": "markdown",
      "source": [
        "#question 8. What is a hash table, and how does it relate to dictionaries in Python?\n",
        "\n",
        "  ans. A hash table is a data structure that stores data in key–value pairs. It uses a hash function to convert each key into an index in memory, allowing very fast access, insertion, and deletion (usually O(1) time).\n",
        "\n",
        "In Python, dictionaries are implemented using hash tables. Each dictionary key is hashed and mapped to a memory location where its value is stored. This makes dictionary lookups and updates much faster than searching in lists. Only immutable objects (like strings, numbers, or tuples) can be used as dictionary keys because they must always produce the same hash value."
      ],
      "metadata": {
        "id": "8hNCpDz5xc8l"
      }
    },
    {
      "cell_type": "markdown",
      "source": [
        "#question 9. Can lists contain different data types in Python?\n",
        "\n",
        "  ans. In Python, lists can contain different data types. A single list can hold integers, floats, strings, objects, or even other lists. This is because Python lists are heterogeneous collections."
      ],
      "metadata": {
        "id": "vq7IB0CA6Nco"
      }
    },
    {
      "cell_type": "code",
      "source": [
        "#Example:\n",
        "my_list = [10, \"Ekta\", 3.14, True, [1, 2, 3]]"
      ],
      "metadata": {
        "id": "r5fxJciX7Keo"
      },
      "execution_count": null,
      "outputs": []
    },
    {
      "cell_type": "markdown",
      "source": [
        "#question 10.  Explain why strings are immutable in Python?\n",
        "\n",
        "  ans. Strings in Python are immutable, meaning they cannot be changed after creation. This ensures data safety, allows consistent hashing (so strings can be used as dictionary keys), and improves performance by enabling memory optimization."
      ],
      "metadata": {
        "id": "DgteZZVx6NfC"
      }
    },
    {
      "cell_type": "markdown",
      "source": [
        "#question 11. What advantages do dictionaries offer over lists for certain tasks?\n",
        "\n",
        "  ans. Dictionaries are faster than lists for lookups because they use hashing. They store data as key–value pairs, making access easier and more meaningful than using numeric indexes."
      ],
      "metadata": {
        "id": "bkKxNXT56Nh1"
      }
    },
    {
      "cell_type": "markdown",
      "source": [
        "#question 12. Describe a scenario where using a tuple would be preferable over a list.\n",
        "\n",
        "  ans. A tuple is preferable when data should remain constant and not be modified, such as storing days of the week, geographical coordinates, or using keys in a dictionary. Its immutability ensures data integrity.\n"
      ],
      "metadata": {
        "id": "s7T6g-Sg6NlM"
      }
    },
    {
      "cell_type": "markdown",
      "source": [
        "#question 13. How do sets handle duplicate values in Python?\n",
        "\n",
        "  ans. Sets in Python automatically remove duplicates because they only store unique elements. If a duplicate is added, it is ignored."
      ],
      "metadata": {
        "id": "mWpCp7dPFUhb"
      }
    },
    {
      "cell_type": "code",
      "source": [
        "#example\n",
        "\n",
        "my_set = {1, 2, 2, 3}\n",
        "\n",
        "print(my_set)"
      ],
      "metadata": {
        "colab": {
          "base_uri": "https://localhost:8080/"
        },
        "id": "h2Xl6atAGcvv",
        "outputId": "96429ec7-cd47-4a7f-d33c-899100a7ca03"
      },
      "execution_count": null,
      "outputs": [
        {
          "output_type": "stream",
          "name": "stdout",
          "text": [
            "{1, 2, 3}\n"
          ]
        }
      ]
    },
    {
      "cell_type": "markdown",
      "source": [
        "#question 14. How does the “in” keyword work differently for lists and dictionaries?\n",
        "\n",
        "  ans. For lists, \"in\" checks if an element exists in the list.\n",
        "\n",
        "For dictionaries, \"in\" checks if a key exists (not the value).\n"
      ],
      "metadata": {
        "id": "uLlM4TbTFWYc"
      }
    },
    {
      "cell_type": "code",
      "source": [
        "#example for list\n",
        "\n",
        "my_list = [1, 2, 3]\n",
        "print(2 in my_list)\n",
        "\n",
        "#output will be \"true\", as 2 is present in  the list."
      ],
      "metadata": {
        "colab": {
          "base_uri": "https://localhost:8080/"
        },
        "id": "UuzIN-1eHnqv",
        "outputId": "329d4884-7312-44df-cac7-06dcf500c79b"
      },
      "execution_count": null,
      "outputs": [
        {
          "output_type": "stream",
          "name": "stdout",
          "text": [
            "True\n"
          ]
        }
      ]
    },
    {
      "cell_type": "code",
      "source": [
        "#example for dictionaries\n",
        "\n",
        "my_dict = {\"name\": \"Ekta\", \"age\": 22}\n",
        "print(\"name\" in my_dict)   # True\n",
        "print(\"Ekta\" in my_dict)   # False (values are not checked by default)\n"
      ],
      "metadata": {
        "colab": {
          "base_uri": "https://localhost:8080/"
        },
        "id": "2RzYlShBH_L5",
        "outputId": "fe1ddf77-a291-4a4d-e31d-974d37e42836"
      },
      "execution_count": null,
      "outputs": [
        {
          "output_type": "stream",
          "name": "stdout",
          "text": [
            "True\n",
            "False\n"
          ]
        }
      ]
    },
    {
      "cell_type": "markdown",
      "source": [
        "#question 15. Can you modify the elements of a tuple? Explain why or why not?\n",
        "\n",
        "  ans. No, you cannot modify the elements of a tuple once it is created.because of the following reason:\n",
        "\n",
        "1. Tuples are immutable → which means their contents cannot be changed, added, or removed.\n",
        "\n",
        "2. This immutability ensures data integrity (values stay fixed) and allows    tuples to be used as dictionary keys or elements of sets.\n",
        "\n",
        "3. If modification is needed, you must first convert the tuple into a list, make the changes, and then convert it back into a tuple."
      ],
      "metadata": {
        "id": "Q55DtEpSFWbL"
      }
    },
    {
      "cell_type": "markdown",
      "source": [
        "#question 16. What is a nested dictionary, and give an example of its use case?\n",
        "\n",
        "  ans. A nested dictionary is a dictionary inside another dictionary, useful for storing structured data like student records, employee details, or JSON data."
      ],
      "metadata": {
        "id": "gzKsO5CBFWev"
      }
    },
    {
      "cell_type": "code",
      "source": [
        "company = {\n",
        "    \"HR\": {\"manager\": \"Ekta\", \"employees\": 25},\n",
        "    \"IT\": {\"manager\": \"Rahul\", \"employees\": 40}\n",
        "}\n",
        "\n",
        "print(company)"
      ],
      "metadata": {
        "colab": {
          "base_uri": "https://localhost:8080/"
        },
        "id": "jcGk0W5dUbY5",
        "outputId": "98723875-3fb3-4120-9755-5efc4efdb65b"
      },
      "execution_count": null,
      "outputs": [
        {
          "output_type": "stream",
          "name": "stdout",
          "text": [
            "{'HR': {'manager': 'Ekta', 'employees': 25}, 'IT': {'manager': 'Rahul', 'employees': 40}}\n"
          ]
        }
      ]
    },
    {
      "cell_type": "markdown",
      "source": [
        "#question 17.  Describe the time complexity of accessing elements in a dictionary?\n",
        "\n",
        "  ans. Accessing elements in a dictionary takes O(1) time on average because it uses hashing to find keys directly. In rare cases of hash collisions, it may degrade to O(n), but this is uncommon."
      ],
      "metadata": {
        "id": "jQVsFsKbJSGt"
      }
    },
    {
      "cell_type": "markdown",
      "source": [
        "#question 18. In what situations are lists preferred over dictionaries?\n",
        "\n",
        "  ans.  Lists are preferred when data needs to be ordered, accessed by index, or when duplicates are allowed. They are useful for simple sequences of items where key–value mapping is not required."
      ],
      "metadata": {
        "id": "jDVdP8fzJRgV"
      }
    },
    {
      "cell_type": "markdown",
      "source": [
        "#question 19. Why are dictionaries considered unordered, and how does that affect data retrieval?\n",
        "\n",
        "  ans. Dictionaries are considered unordered because they store elements based on the hash of their keys, not the order of insertion (before Python 3.7). This means items cannot be accessed by index like in lists. Instead, values are retrieved using their unique keys. While order is not guaranteed, retrieval is very fast (O(1)) due to hashing."
      ],
      "metadata": {
        "id": "xTMOYeWMJT6n"
      }
    },
    {
      "cell_type": "markdown",
      "source": [
        "#question 20.  Explain the difference between a list and a dictionary in terms of data retrieval.\n",
        "\n",
        "  ans. In lists, data is retrieved by index, which can be slower if you don’t know the position. In dictionaries, data is retrieved by keys using hashing, making lookups faster and more efficient."
      ],
      "metadata": {
        "id": "R3nU1UfKJRIg"
      }
    },
    {
      "cell_type": "markdown",
      "source": [
        "#practical question"
      ],
      "metadata": {
        "id": "QBeXHoqwf3o1"
      }
    },
    {
      "cell_type": "code",
      "source": [
        "#question 1\n",
        "\n",
        "name = \"Ekta\"\n",
        "print(\"my name is:\", name)"
      ],
      "metadata": {
        "colab": {
          "base_uri": "https://localhost:8080/"
        },
        "id": "tzDxGUhsgGY3",
        "outputId": "dc23404a-eb23-4bb4-984b-9df69f2c9c2b"
      },
      "execution_count": null,
      "outputs": [
        {
          "output_type": "stream",
          "name": "stdout",
          "text": [
            "my name is: Ekta\n"
          ]
        }
      ]
    },
    {
      "cell_type": "code",
      "source": [
        "#question 2\n",
        "\n",
        "a = \"Hello World\"\n",
        "\n",
        "len(a)"
      ],
      "metadata": {
        "colab": {
          "base_uri": "https://localhost:8080/"
        },
        "id": "VTf7Ir7sgiGc",
        "outputId": "bd9fb3f2-81d1-4985-b8b8-d3f248230109"
      },
      "execution_count": null,
      "outputs": [
        {
          "output_type": "execute_result",
          "data": {
            "text/plain": [
              "11"
            ]
          },
          "metadata": {},
          "execution_count": 8
        }
      ]
    },
    {
      "cell_type": "code",
      "source": [
        "#question 3\n",
        "\n",
        "text =  \"Python Programming\"\n",
        "\n",
        "first_three_characters = text[:3]\n",
        "\n",
        "print(\" first 3 characters :\" ,first_three_characters)"
      ],
      "metadata": {
        "colab": {
          "base_uri": "https://localhost:8080/"
        },
        "id": "qHB6tHfDiCC4",
        "outputId": "99d3693f-824e-4a1c-c695-8086cf6266a2"
      },
      "execution_count": null,
      "outputs": [
        {
          "output_type": "stream",
          "name": "stdout",
          "text": [
            " first 3 characters : Pyt\n"
          ]
        }
      ]
    },
    {
      "cell_type": "code",
      "source": [
        "#question 4\n",
        "\n",
        "#original string\n",
        "\n",
        "text = \"hello world\"\n",
        "\n",
        "text.upper()\n"
      ],
      "metadata": {
        "colab": {
          "base_uri": "https://localhost:8080/",
          "height": 36
        },
        "id": "d0uaDJDVlKTi",
        "outputId": "133e8ce4-7404-49f1-c46e-6bfe4ddcd54c"
      },
      "execution_count": null,
      "outputs": [
        {
          "output_type": "execute_result",
          "data": {
            "text/plain": [
              "'HELLO WORLD'"
            ],
            "application/vnd.google.colaboratory.intrinsic+json": {
              "type": "string"
            }
          },
          "metadata": {},
          "execution_count": 12
        }
      ]
    },
    {
      "cell_type": "code",
      "source": [
        "#question 5\n",
        "\n",
        "#original string\n",
        "\n",
        "sen = \"i like apple\"\n",
        "\n",
        "# replacement\n",
        "sen.replace(\"apple\", \"orange\")"
      ],
      "metadata": {
        "colab": {
          "base_uri": "https://localhost:8080/",
          "height": 36
        },
        "id": "NLvfOWSMloLd",
        "outputId": "44e3fef5-f190-48c8-f421-ece0422b568a"
      },
      "execution_count": null,
      "outputs": [
        {
          "output_type": "execute_result",
          "data": {
            "text/plain": [
              "'i like orange'"
            ],
            "application/vnd.google.colaboratory.intrinsic+json": {
              "type": "string"
            }
          },
          "metadata": {},
          "execution_count": 13
        }
      ]
    },
    {
      "cell_type": "code",
      "source": [
        "#question 6\n",
        "numbers = [1, 2, 3, 4, 5]\n",
        "\n",
        "# Printing the list\n",
        "print(\"List of numbers:\", numbers)"
      ],
      "metadata": {
        "colab": {
          "base_uri": "https://localhost:8080/"
        },
        "id": "WNR-O2XHeBmJ",
        "outputId": "52330b2a-9a2b-46a4-a008-3fbe85d702de"
      },
      "execution_count": null,
      "outputs": [
        {
          "output_type": "stream",
          "name": "stdout",
          "text": [
            "List of numbers: [1, 2, 3, 4, 5]\n"
          ]
        }
      ]
    },
    {
      "cell_type": "code",
      "source": [
        "#question 7\n",
        "\n",
        "list =  [1, 2, 3, 4]\n",
        "\n",
        "list.append(10)\n",
        "\n",
        "print(list)"
      ],
      "metadata": {
        "colab": {
          "base_uri": "https://localhost:8080/"
        },
        "id": "nXHNN9TEeBig",
        "outputId": "c1e9064a-e442-4bca-fbe9-1b0c954a22a2"
      },
      "execution_count": null,
      "outputs": [
        {
          "output_type": "stream",
          "name": "stdout",
          "text": [
            "[1, 2, 3, 4, 10]\n"
          ]
        }
      ]
    },
    {
      "cell_type": "code",
      "source": [
        "#question 8\n",
        "\n",
        "list =  [1, 2, 3, 4, 5]\n",
        "\n",
        "list.remove(3)\n",
        "\n",
        "print(list)"
      ],
      "metadata": {
        "colab": {
          "base_uri": "https://localhost:8080/"
        },
        "id": "F7sPS4KceBfT",
        "outputId": "c943f7f2-da23-4df6-e0b6-9a5624bc3fbd"
      },
      "execution_count": null,
      "outputs": [
        {
          "output_type": "stream",
          "name": "stdout",
          "text": [
            "[1, 2, 4, 5]\n"
          ]
        }
      ]
    },
    {
      "cell_type": "code",
      "source": [
        "#question 9\n",
        "list =  ['a', 'b', 'c', 'd']\n",
        "\n",
        "second_element =  list[1]\n",
        "\n",
        "print(\"The second element is:\", second_element)\n",
        "\n"
      ],
      "metadata": {
        "colab": {
          "base_uri": "https://localhost:8080/"
        },
        "id": "_UnpUaILeBcO",
        "outputId": "337cd9e8-157f-4fe3-b1c7-ba892084592b"
      },
      "execution_count": null,
      "outputs": [
        {
          "output_type": "stream",
          "name": "stdout",
          "text": [
            "The second element is: b\n"
          ]
        }
      ]
    },
    {
      "cell_type": "code",
      "source": [
        "#question 10\n",
        "\n",
        "list =  [10, 20, 30, 40, 50]\n",
        "\n",
        "list.reverse()\n",
        "\n",
        "print(list)"
      ],
      "metadata": {
        "colab": {
          "base_uri": "https://localhost:8080/"
        },
        "id": "u72rb_dxeBZN",
        "outputId": "0d31a59f-8e27-49e1-d60b-71bf7d6b8681"
      },
      "execution_count": null,
      "outputs": [
        {
          "output_type": "stream",
          "name": "stdout",
          "text": [
            "[50, 40, 30, 20, 10]\n"
          ]
        }
      ]
    },
    {
      "cell_type": "code",
      "source": [
        "#question 11\n",
        "\n",
        "numbers = (100, 200, 300)\n",
        "print(numbers)\n"
      ],
      "metadata": {
        "id": "aNvDndqgeBV3",
        "colab": {
          "base_uri": "https://localhost:8080/"
        },
        "outputId": "68e175a1-91d8-4545-d2dd-863010cececb"
      },
      "execution_count": 1,
      "outputs": [
        {
          "output_type": "stream",
          "name": "stdout",
          "text": [
            "(100, 200, 300)\n"
          ]
        }
      ]
    },
    {
      "cell_type": "code",
      "source": [
        "#question 12\n",
        "\n",
        "colors = ('red', 'green', 'blue', 'yellow')\n",
        "print(colors[-2])"
      ],
      "metadata": {
        "colab": {
          "base_uri": "https://localhost:8080/"
        },
        "id": "Z5UGNV1NlA2x",
        "outputId": "acce8be8-6a22-47ec-cf0c-04222260e8f0"
      },
      "execution_count": 2,
      "outputs": [
        {
          "output_type": "stream",
          "name": "stdout",
          "text": [
            "blue\n"
          ]
        }
      ]
    },
    {
      "cell_type": "code",
      "source": [
        "#question 13\n",
        "\n",
        "nums = (10, 20, 5, 15)\n",
        "print(min(nums))"
      ],
      "metadata": {
        "colab": {
          "base_uri": "https://localhost:8080/"
        },
        "id": "tBQtUTpElKA0",
        "outputId": "604aa802-ab2f-4038-dcc4-2359e2f2f8c0"
      },
      "execution_count": 3,
      "outputs": [
        {
          "output_type": "stream",
          "name": "stdout",
          "text": [
            "5\n"
          ]
        }
      ]
    },
    {
      "cell_type": "code",
      "source": [
        "#queation 14\n",
        "\n",
        "animals = ('dog', 'cat', 'rabbit')\n",
        "print(animals.index(\"cat\"))"
      ],
      "metadata": {
        "colab": {
          "base_uri": "https://localhost:8080/"
        },
        "id": "2UBvYBp-lQm9",
        "outputId": "92bf27f8-c178-4b17-caf8-7881d8d57268"
      },
      "execution_count": 4,
      "outputs": [
        {
          "output_type": "stream",
          "name": "stdout",
          "text": [
            "1\n"
          ]
        }
      ]
    },
    {
      "cell_type": "code",
      "source": [
        "#question 15\n",
        "\n",
        "fruits = (\"apple\", \"banana\", \"mango\")\n",
        "print(\"kiwi\" in fruits)"
      ],
      "metadata": {
        "colab": {
          "base_uri": "https://localhost:8080/"
        },
        "id": "nrRFnepvlZY-",
        "outputId": "04045861-5872-425e-9d59-39a2673e17f4"
      },
      "execution_count": 5,
      "outputs": [
        {
          "output_type": "stream",
          "name": "stdout",
          "text": [
            "False\n"
          ]
        }
      ]
    },
    {
      "cell_type": "code",
      "source": [
        "#question 16\n",
        "\n",
        "letters = {'a', 'b', 'c'}\n",
        "print(letters)"
      ],
      "metadata": {
        "colab": {
          "base_uri": "https://localhost:8080/"
        },
        "id": "R1iINUz4lh5y",
        "outputId": "5d787fbe-daa6-40d5-b445-b02fdc9d47ca"
      },
      "execution_count": 6,
      "outputs": [
        {
          "output_type": "stream",
          "name": "stdout",
          "text": [
            "{'c', 'a', 'b'}\n"
          ]
        }
      ]
    },
    {
      "cell_type": "code",
      "source": [
        "#question 17\n",
        "\n",
        "s = {1, 2, 3, 4, 5}\n",
        "s.clear()\n",
        "print(s)"
      ],
      "metadata": {
        "colab": {
          "base_uri": "https://localhost:8080/"
        },
        "id": "uQwfttWplnRJ",
        "outputId": "d43f079d-a6eb-420c-83c1-90a2c5048f8d"
      },
      "execution_count": 7,
      "outputs": [
        {
          "output_type": "stream",
          "name": "stdout",
          "text": [
            "set()\n"
          ]
        }
      ]
    },
    {
      "cell_type": "code",
      "source": [
        "#question 18\n",
        "\n",
        "s = {1, 2, 3, 4}\n",
        "s.remove(4)\n",
        "print(s)"
      ],
      "metadata": {
        "colab": {
          "base_uri": "https://localhost:8080/"
        },
        "id": "Ayb1vrUslvpe",
        "outputId": "a8e1a2c0-3e59-48db-d2c8-5bfec135b467"
      },
      "execution_count": 8,
      "outputs": [
        {
          "output_type": "stream",
          "name": "stdout",
          "text": [
            "{1, 2, 3}\n"
          ]
        }
      ]
    },
    {
      "cell_type": "code",
      "source": [
        "#question 19\n",
        "\n",
        "a = {1, 2, 3}\n",
        "b = {3, 4, 5}\n",
        "print(a.union(b))  # {1, 2, 3, 4, 5}"
      ],
      "metadata": {
        "colab": {
          "base_uri": "https://localhost:8080/"
        },
        "id": "Y_yN72oel0yT",
        "outputId": "e749b665-324d-44bc-e08a-bc5009a603c2"
      },
      "execution_count": 9,
      "outputs": [
        {
          "output_type": "stream",
          "name": "stdout",
          "text": [
            "{1, 2, 3, 4, 5}\n"
          ]
        }
      ]
    },
    {
      "cell_type": "code",
      "source": [
        "#question 20\n",
        "\n",
        "a = {1, 2, 3}\n",
        "b = {2, 3, 4}\n",
        "print(a.intersection(b))"
      ],
      "metadata": {
        "colab": {
          "base_uri": "https://localhost:8080/"
        },
        "id": "fe_Q97vsl8T-",
        "outputId": "41ec76d3-7c89-45d4-de55-6e9e752ac102"
      },
      "execution_count": 10,
      "outputs": [
        {
          "output_type": "stream",
          "name": "stdout",
          "text": [
            "{2, 3}\n"
          ]
        }
      ]
    },
    {
      "cell_type": "code",
      "source": [
        "#question 21\n",
        "\n",
        "person = {\"name\": \"John\", \"age\": 25, \"city\": \"London\"}\n",
        "print(person)"
      ],
      "metadata": {
        "colab": {
          "base_uri": "https://localhost:8080/"
        },
        "id": "Bkv2eS7xmBiE",
        "outputId": "1c3ddf47-fe7a-4caa-c71d-8479a00c347b"
      },
      "execution_count": 11,
      "outputs": [
        {
          "output_type": "stream",
          "name": "stdout",
          "text": [
            "{'name': 'John', 'age': 25, 'city': 'London'}\n"
          ]
        }
      ]
    },
    {
      "cell_type": "code",
      "source": [
        "#question 22\n",
        "\n",
        "person = {'name': 'John', 'age': 25}\n",
        "person[\"country\"] = \"USA\"\n",
        "print(person)"
      ],
      "metadata": {
        "colab": {
          "base_uri": "https://localhost:8080/"
        },
        "id": "Epl9xhzfmH4l",
        "outputId": "84d222c2-40cf-4316-ab10-d675d6778129"
      },
      "execution_count": 12,
      "outputs": [
        {
          "output_type": "stream",
          "name": "stdout",
          "text": [
            "{'name': 'John', 'age': 25, 'country': 'USA'}\n"
          ]
        }
      ]
    },
    {
      "cell_type": "code",
      "source": [
        "#question 23\n",
        "\n",
        "person = {'name': 'Alice', 'age': 30}\n",
        "print(person[\"name\"])"
      ],
      "metadata": {
        "colab": {
          "base_uri": "https://localhost:8080/"
        },
        "id": "T3MmqlewmQgL",
        "outputId": "5a4c60db-d0b8-430e-c2c0-0e24a884cf59"
      },
      "execution_count": 13,
      "outputs": [
        {
          "output_type": "stream",
          "name": "stdout",
          "text": [
            "Alice\n"
          ]
        }
      ]
    },
    {
      "cell_type": "code",
      "source": [
        "#question 24\n",
        "\n",
        "person = {'name': 'Bob', 'age': 22, 'city': 'New York'}\n",
        "del person[\"age\"]\n",
        "print(person)"
      ],
      "metadata": {
        "colab": {
          "base_uri": "https://localhost:8080/"
        },
        "id": "AW9K4BW6mXBi",
        "outputId": "4703e361-4ba7-4a27-b2d2-d8a080d70e93"
      },
      "execution_count": 14,
      "outputs": [
        {
          "output_type": "stream",
          "name": "stdout",
          "text": [
            "{'name': 'Bob', 'city': 'New York'}\n"
          ]
        }
      ]
    },
    {
      "cell_type": "code",
      "source": [
        "#question 25\n",
        "\n",
        "person = {'name': 'Alice', 'city': 'Paris'}\n",
        "print(\"city\" in person)"
      ],
      "metadata": {
        "colab": {
          "base_uri": "https://localhost:8080/"
        },
        "id": "ESeR8sIzmeQk",
        "outputId": "66bbb0ec-7cb0-4f89-b885-61af7a326f9e"
      },
      "execution_count": 15,
      "outputs": [
        {
          "output_type": "stream",
          "name": "stdout",
          "text": [
            "True\n"
          ]
        }
      ]
    },
    {
      "cell_type": "code",
      "source": [
        "#question 26\n",
        "\n",
        "my_list = [1, 2, 3]\n",
        "my_tuple = (4, 5, 6)\n",
        "my_dict = {\"a\": 10, \"b\": 20}\n",
        "print(my_list, my_tuple, my_dict)\n"
      ],
      "metadata": {
        "colab": {
          "base_uri": "https://localhost:8080/"
        },
        "id": "1w613esHmlaK",
        "outputId": "9e47f940-f196-4e8b-83b5-fe1101324b00"
      },
      "execution_count": 16,
      "outputs": [
        {
          "output_type": "stream",
          "name": "stdout",
          "text": [
            "[1, 2, 3] (4, 5, 6) {'a': 10, 'b': 20}\n"
          ]
        }
      ]
    },
    {
      "cell_type": "code",
      "source": [
        "#question 27\n",
        "\n",
        "import random\n",
        "nums = random.sample(range(1, 101), 5)\n",
        "nums.sort()\n",
        "print(nums)"
      ],
      "metadata": {
        "colab": {
          "base_uri": "https://localhost:8080/"
        },
        "id": "ZLEEVPtnmuHm",
        "outputId": "27c9b1e2-f10f-4bc5-d659-559d10b7a034"
      },
      "execution_count": 17,
      "outputs": [
        {
          "output_type": "stream",
          "name": "stdout",
          "text": [
            "[2, 31, 51, 97, 99]\n"
          ]
        }
      ]
    },
    {
      "cell_type": "code",
      "source": [
        "#question 28\n",
        "\n",
        "words = [\"apple\", \"banana\", \"cherry\", \"date\", \"mango\"]\n",
        "print(words[3])"
      ],
      "metadata": {
        "colab": {
          "base_uri": "https://localhost:8080/"
        },
        "id": "1jEIUcFSm1Of",
        "outputId": "e39fbbda-508b-4d4c-96dd-08db7969f9a1"
      },
      "execution_count": 18,
      "outputs": [
        {
          "output_type": "stream",
          "name": "stdout",
          "text": [
            "date\n"
          ]
        }
      ]
    },
    {
      "cell_type": "code",
      "source": [
        "#question 29\n",
        "\n",
        "dict1 = {\"a\": 1, \"b\": 2}\n",
        "dict2 = {\"c\": 3, \"d\": 4}\n",
        "combined = {**dict1, **dict2}\n",
        "print(combined)"
      ],
      "metadata": {
        "colab": {
          "base_uri": "https://localhost:8080/"
        },
        "id": "9-htaYHPm9Mw",
        "outputId": "6a95a5ec-4d12-4c1e-c198-46c9f71c8600"
      },
      "execution_count": 19,
      "outputs": [
        {
          "output_type": "stream",
          "name": "stdout",
          "text": [
            "{'a': 1, 'b': 2, 'c': 3, 'd': 4}\n"
          ]
        }
      ]
    },
    {
      "cell_type": "code",
      "source": [
        "#question 30\n",
        "\n",
        "words = [\"apple\", \"banana\", \"apple\", \"cherry\"]\n",
        "unique_words = set(words)\n",
        "print(unique_words)  # {'apple', 'banana', 'cherry'}"
      ],
      "metadata": {
        "colab": {
          "base_uri": "https://localhost:8080/"
        },
        "id": "-35R_WiznJNG",
        "outputId": "4e718c41-de2a-4814-91d4-e1444bf0ee68"
      },
      "execution_count": 20,
      "outputs": [
        {
          "output_type": "stream",
          "name": "stdout",
          "text": [
            "{'banana', 'cherry', 'apple'}\n"
          ]
        }
      ]
    },
    {
      "cell_type": "code",
      "source": [],
      "metadata": {
        "id": "Muxb7PPGnRWV"
      },
      "execution_count": null,
      "outputs": []
    }
  ]
}